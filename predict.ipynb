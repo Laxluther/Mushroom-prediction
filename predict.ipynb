{
 "cells": [
  {
   "cell_type": "code",
   "execution_count": 1,
   "metadata": {},
   "outputs": [],
   "source": [
    "import matplotlib.pyplot as plt\n",
    "import numpy as np\n",
    "from tensorflow.keras.preprocessing import image\n",
    "\n",
    "def predict(model, input_image_path):\n",
    "    # Load and preprocess the image\n",
    "    given_image = plt.imread(input_image_path)\n",
    "    plt.imshow(given_image)\n",
    "    plt.show()  # Display the image\n",
    "    \n",
    "    inputImage = image.load_img(input_image_path, target_size=(224, 224))\n",
    "    inputImage = image.img_to_array(inputImage)\n",
    "    inputImage = np.expand_dims(inputImage, axis=0)\n",
    "    inputImage = inputImage / 255.0\n",
    "\n",
    "    # Predict using the provided model\n",
    "    prediction = model.predict(inputImage)\n",
    "    predicted_class_index = np.argmax(prediction)\n",
    "    class_names = list(train_data.class_indices.keys())\n",
    "    predicted_class = class_names[predicted_class_index]\n",
    "    print(\"The Mushroom image classification is:\", predicted_class)"
   ]
  }
 ],
 "metadata": {
  "kernelspec": {
   "display_name": "pypro",
   "language": "python",
   "name": "python3"
  },
  "language_info": {
   "codemirror_mode": {
    "name": "ipython",
    "version": 3
   },
   "file_extension": ".py",
   "mimetype": "text/x-python",
   "name": "python",
   "nbconvert_exporter": "python",
   "pygments_lexer": "ipython3",
   "version": "3.10.13"
  }
 },
 "nbformat": 4,
 "nbformat_minor": 2
}
