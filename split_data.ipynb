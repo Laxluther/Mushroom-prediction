{
 "cells": [
  {
   "cell_type": "code",
   "execution_count": null,
   "metadata": {},
   "outputs": [],
   "source": [
    "import os\n",
    "import shutil\n",
    "from sklearn.model_selection import train_test_split\n",
    "\n",
    "\n"
   ]
  },
  {
   "cell_type": "code",
   "execution_count": null,
   "metadata": {},
   "outputs": [],
   "source": [
    "def create_dir_structure(base_dir, classes):\n",
    "    for class_name in classes:\n",
    "        os.makedirs(os.path.join(base_dir, 'train', class_name), exist_ok=True)\n",
    "        os.makedirs(os.path.join(base_dir, 'val', class_name), exist_ok=True)\n",
    "        os.makedirs(os.path.join(base_dir, 'test', class_name), exist_ok=True)\n",
    "\n",
    "def split_data(raw_data_dir, base_dir, test_size=0.2, val_size=0.2):\n",
    "    classes = os.listdir(raw_data_dir)\n",
    "    create_dir_structure(base_dir, classes)\n",
    "\n",
    "    for class_name in classes:\n",
    "        class_dir = os.path.join(raw_data_dir, class_name)\n",
    "        images = os.listdir(class_dir)\n",
    "        train_val_images, test_images = train_test_split(images, test_size=test_size, random_state=42)\n",
    "        train_images, val_images = train_test_split(train_val_images, test_size=val_size / (1 - test_size), random_state=42)\n",
    "\n",
    "        for img in test_images:\n",
    "            shutil.copy(os.path.join(class_dir, img), os.path.join(base_dir, 'test', class_name, img))\n",
    "\n",
    "        for img in val_images:\n",
    "            shutil.copy(os.path.join(class_dir, img), os.path.join(base_dir, 'val', class_name, img))\n",
    "\n",
    "        for img in train_images:\n",
    "            shutil.copy(os.path.join(class_dir, img), os.path.join(base_dir, 'train', class_name, img))"
   ]
  },
  {
   "cell_type": "code",
   "execution_count": null,
   "metadata": {},
   "outputs": [],
   "source": [
    "raw_data_dir = \"C:\\Mushroom\\data\"\n",
    "base_dir = 'Dataset'\n",
    "split_data(raw_data_dir, base_dir)"
   ]
  }
 ],
 "metadata": {
  "language_info": {
   "name": "python"
  }
 },
 "nbformat": 4,
 "nbformat_minor": 2
}
