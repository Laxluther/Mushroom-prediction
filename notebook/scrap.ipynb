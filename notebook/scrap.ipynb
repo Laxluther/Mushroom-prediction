{
 "cells": [
  {
   "cell_type": "code",
   "execution_count": null,
   "metadata": {},
   "outputs": [],
   "source": [
    "\n",
    "from bing_image_downloader import downloader\n",
    "import os\n",
    "\n",
    " \n",
    "queries = {\n",
    "    \"Agaricus bisporus\": [\"Agaricus mushroom\", \"Agaricus images\", \"Agaricus species\"],\n",
    "    \"Agaricus blazei murill\": [\"Amanita mushroom\", \"Amanita images\", \"Amanita species\"],\n",
    "    \"Cantharellus mushroom\": [\"Cantharellus mushroom\", \"Cantharellus images\", \"Cantharellus species\"],\n",
    "    \"Cortinarius mushroom\": [\"Cortinarius mushroom\", \"Cortinarius images\", \"Cortinarius species\"],\n",
    "    \"Hygrocybe mushroom\": [\"Hygrocybe mushroom\", \"Hygrocybe images\", \"Hygrocybe species\"],\n",
    "    \"Pleurotus mushroom\": [\"Pleurotus mushroom\", \"Pleurotus images\", \"Pleurotus species\"],\n",
    "    \"Tricholoma mushroom\": [\"Tricholoma mushroom\", \"Tricholoma images\", \"Tricholoma species\"],\n",
    "    \"Coprinus mushroom\": [\"Coprinus mushroom\", \"Coprinus images\", \"Coprinus species\"]\n",
    "}\n",
    "\n",
    " \n",
    "main_dir = 'mushroom_images'\n",
    "\n",
    " \n",
    "for genus, search_queries in queries.items():\n",
    "  \n",
    "    genus_dir = os.path.join(main_dir, genus.replace(\" \", \"_\"))\n",
    "    if not os.path.exists(genus_dir):\n",
    "        os.makedirs(genus_dir)\n",
    "\n",
    "    for query in search_queries:\n",
    "     \n",
    "        downloader.download(query, limit=1500, output_dir=genus_dir, adult_filter_off=True, force_replace=False, timeout=1200000)\n",
    "\n",
    "print(\"Image download and organization completed.\")"
   ]
  }
 ],
 "metadata": {
  "kernelspec": {
   "display_name": "pypro",
   "language": "python",
   "name": "python3"
  },
  "language_info": {
   "codemirror_mode": {
    "name": "ipython",
    "version": 3
   },
   "file_extension": ".py",
   "mimetype": "text/x-python",
   "name": "python",
   "nbconvert_exporter": "python",
   "pygments_lexer": "ipython3",
   "version": "3.10.13"
  }
 },
 "nbformat": 4,
 "nbformat_minor": 2
}
